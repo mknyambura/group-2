{
 "cells": [
  {
   "cell_type": "code",
   "execution_count": 1,
   "id": "ce483f72",
   "metadata": {},
   "outputs": [],
   "source": [
    "from datetime import datetime\n",
    "import pandas as pd\n",
    "import numpy as np\n",
    "import matplotlib.pyplot as plt\n",
    "import seaborn as sns\n",
    "\n",
    "%matplotlib inline"
   ]
  },
  {
   "cell_type": "code",
   "execution_count": 9,
   "id": "025e3778",
   "metadata": {},
   "outputs": [
    {
     "data": {
      "text/html": [
       "<div>\n",
       "<style scoped>\n",
       "    .dataframe tbody tr th:only-of-type {\n",
       "        vertical-align: middle;\n",
       "    }\n",
       "\n",
       "    .dataframe tbody tr th {\n",
       "        vertical-align: top;\n",
       "    }\n",
       "\n",
       "    .dataframe thead th {\n",
       "        text-align: right;\n",
       "    }\n",
       "</style>\n",
       "<table border=\"1\" class=\"dataframe\">\n",
       "  <thead>\n",
       "    <tr style=\"text-align: right;\">\n",
       "      <th></th>\n",
       "      <th>index</th>\n",
       "      <th>Order ID</th>\n",
       "      <th>Date</th>\n",
       "      <th>Status</th>\n",
       "      <th>Fulfilment</th>\n",
       "      <th>Sales Channel</th>\n",
       "      <th>ship-service-level</th>\n",
       "      <th>Style</th>\n",
       "      <th>SKU</th>\n",
       "      <th>Category</th>\n",
       "      <th>...</th>\n",
       "      <th>Qty</th>\n",
       "      <th>currency</th>\n",
       "      <th>Amount</th>\n",
       "      <th>ship-city</th>\n",
       "      <th>ship-state</th>\n",
       "      <th>ship-postal-code</th>\n",
       "      <th>ship-country</th>\n",
       "      <th>promotion-ids</th>\n",
       "      <th>B2B</th>\n",
       "      <th>fulfilled-by</th>\n",
       "    </tr>\n",
       "  </thead>\n",
       "  <tbody>\n",
       "    <tr>\n",
       "      <th>0</th>\n",
       "      <td>0</td>\n",
       "      <td>405-8078784-5731545</td>\n",
       "      <td>04-30-22</td>\n",
       "      <td>Cancelled</td>\n",
       "      <td>Merchant</td>\n",
       "      <td>Amazon.in</td>\n",
       "      <td>Standard</td>\n",
       "      <td>SET389</td>\n",
       "      <td>SET389-KR-NP-S</td>\n",
       "      <td>Set</td>\n",
       "      <td>...</td>\n",
       "      <td>0</td>\n",
       "      <td>INR</td>\n",
       "      <td>647.62</td>\n",
       "      <td>MUMBAI</td>\n",
       "      <td>MAHARASHTRA</td>\n",
       "      <td>400081</td>\n",
       "      <td>IN</td>\n",
       "      <td>Invalid</td>\n",
       "      <td>False</td>\n",
       "      <td>Easy Ship</td>\n",
       "    </tr>\n",
       "    <tr>\n",
       "      <th>1</th>\n",
       "      <td>1</td>\n",
       "      <td>171-9198151-1101146</td>\n",
       "      <td>04-30-22</td>\n",
       "      <td>Shipped - Delivered to Buyer</td>\n",
       "      <td>Merchant</td>\n",
       "      <td>Amazon.in</td>\n",
       "      <td>Standard</td>\n",
       "      <td>JNE3781</td>\n",
       "      <td>JNE3781-KR-XXXL</td>\n",
       "      <td>kurta</td>\n",
       "      <td>...</td>\n",
       "      <td>1</td>\n",
       "      <td>INR</td>\n",
       "      <td>406.00</td>\n",
       "      <td>BENGALURU</td>\n",
       "      <td>KARNATAKA</td>\n",
       "      <td>560085</td>\n",
       "      <td>IN</td>\n",
       "      <td>Amazon PLCC Free-Financing Universal Merchant ...</td>\n",
       "      <td>False</td>\n",
       "      <td>Easy Ship</td>\n",
       "    </tr>\n",
       "    <tr>\n",
       "      <th>2</th>\n",
       "      <td>2</td>\n",
       "      <td>404-0687676-7273146</td>\n",
       "      <td>04-30-22</td>\n",
       "      <td>Shipped</td>\n",
       "      <td>Amazon</td>\n",
       "      <td>Amazon.in</td>\n",
       "      <td>Expedited</td>\n",
       "      <td>JNE3371</td>\n",
       "      <td>JNE3371-KR-XL</td>\n",
       "      <td>kurta</td>\n",
       "      <td>...</td>\n",
       "      <td>1</td>\n",
       "      <td>INR</td>\n",
       "      <td>329.00</td>\n",
       "      <td>NAVI MUMBAI</td>\n",
       "      <td>MAHARASHTRA</td>\n",
       "      <td>410210</td>\n",
       "      <td>IN</td>\n",
       "      <td>IN Core Free Shipping 2015/04/08 23-48-5-108</td>\n",
       "      <td>True</td>\n",
       "      <td>Unidentified</td>\n",
       "    </tr>\n",
       "    <tr>\n",
       "      <th>3</th>\n",
       "      <td>3</td>\n",
       "      <td>403-9615377-8133951</td>\n",
       "      <td>04-30-22</td>\n",
       "      <td>Cancelled</td>\n",
       "      <td>Merchant</td>\n",
       "      <td>Amazon.in</td>\n",
       "      <td>Standard</td>\n",
       "      <td>J0341</td>\n",
       "      <td>J0341-DR-L</td>\n",
       "      <td>Western Dress</td>\n",
       "      <td>...</td>\n",
       "      <td>0</td>\n",
       "      <td>INR</td>\n",
       "      <td>753.33</td>\n",
       "      <td>PUDUCHERRY</td>\n",
       "      <td>PUDUCHERRY</td>\n",
       "      <td>605008</td>\n",
       "      <td>IN</td>\n",
       "      <td>Invalid</td>\n",
       "      <td>False</td>\n",
       "      <td>Easy Ship</td>\n",
       "    </tr>\n",
       "    <tr>\n",
       "      <th>4</th>\n",
       "      <td>4</td>\n",
       "      <td>407-1069790-7240320</td>\n",
       "      <td>04-30-22</td>\n",
       "      <td>Shipped</td>\n",
       "      <td>Amazon</td>\n",
       "      <td>Amazon.in</td>\n",
       "      <td>Expedited</td>\n",
       "      <td>JNE3671</td>\n",
       "      <td>JNE3671-TU-XXXL</td>\n",
       "      <td>Top</td>\n",
       "      <td>...</td>\n",
       "      <td>1</td>\n",
       "      <td>INR</td>\n",
       "      <td>574.00</td>\n",
       "      <td>CHENNAI</td>\n",
       "      <td>TAMIL NADU</td>\n",
       "      <td>600073</td>\n",
       "      <td>IN</td>\n",
       "      <td>Invalid</td>\n",
       "      <td>False</td>\n",
       "      <td>Unidentified</td>\n",
       "    </tr>\n",
       "  </tbody>\n",
       "</table>\n",
       "<p>5 rows × 23 columns</p>\n",
       "</div>"
      ],
      "text/plain": [
       "   index             Order ID      Date                        Status  \\\n",
       "0      0  405-8078784-5731545  04-30-22                     Cancelled   \n",
       "1      1  171-9198151-1101146  04-30-22  Shipped - Delivered to Buyer   \n",
       "2      2  404-0687676-7273146  04-30-22                       Shipped   \n",
       "3      3  403-9615377-8133951  04-30-22                     Cancelled   \n",
       "4      4  407-1069790-7240320  04-30-22                       Shipped   \n",
       "\n",
       "  Fulfilment Sales Channel  ship-service-level    Style              SKU  \\\n",
       "0   Merchant      Amazon.in           Standard   SET389   SET389-KR-NP-S   \n",
       "1   Merchant      Amazon.in           Standard  JNE3781  JNE3781-KR-XXXL   \n",
       "2     Amazon      Amazon.in          Expedited  JNE3371    JNE3371-KR-XL   \n",
       "3   Merchant      Amazon.in           Standard    J0341       J0341-DR-L   \n",
       "4     Amazon      Amazon.in          Expedited  JNE3671  JNE3671-TU-XXXL   \n",
       "\n",
       "        Category  ... Qty currency  Amount    ship-city   ship-state  \\\n",
       "0            Set  ...   0      INR  647.62       MUMBAI  MAHARASHTRA   \n",
       "1          kurta  ...   1      INR  406.00    BENGALURU    KARNATAKA   \n",
       "2          kurta  ...   1      INR  329.00  NAVI MUMBAI  MAHARASHTRA   \n",
       "3  Western Dress  ...   0      INR  753.33   PUDUCHERRY   PUDUCHERRY   \n",
       "4            Top  ...   1      INR  574.00      CHENNAI   TAMIL NADU   \n",
       "\n",
       "   ship-postal-code ship-country  \\\n",
       "0            400081           IN   \n",
       "1            560085           IN   \n",
       "2            410210           IN   \n",
       "3            605008           IN   \n",
       "4            600073           IN   \n",
       "\n",
       "                                       promotion-ids    B2B  fulfilled-by  \n",
       "0                                            Invalid  False     Easy Ship  \n",
       "1  Amazon PLCC Free-Financing Universal Merchant ...  False     Easy Ship  \n",
       "2       IN Core Free Shipping 2015/04/08 23-48-5-108   True  Unidentified  \n",
       "3                                            Invalid  False     Easy Ship  \n",
       "4                                            Invalid  False  Unidentified  \n",
       "\n",
       "[5 rows x 23 columns]"
      ]
     },
     "execution_count": 9,
     "metadata": {},
     "output_type": "execute_result"
    }
   ],
   "source": [
    "dataset = pd.read_csv(\"C:/Users/d3040021/OneDrive - Teesside University/Interactive Visualization/Amazon Sales Report - Group 2 - ICA/Amazon Sale Report - Clean.csv\")\n",
    "dataset.head()"
   ]
  },
  {
   "cell_type": "code",
   "execution_count": 10,
   "id": "8e044ae4",
   "metadata": {},
   "outputs": [
    {
     "name": "stdout",
     "output_type": "stream",
     "text": [
      "<class 'pandas.core.frame.DataFrame'>\n",
      "RangeIndex: 128975 entries, 0 to 128974\n",
      "Data columns (total 23 columns):\n",
      " #   Column              Non-Null Count   Dtype  \n",
      "---  ------              --------------   -----  \n",
      " 0   index               128975 non-null  int64  \n",
      " 1   Order ID            128975 non-null  object \n",
      " 2   Date                128975 non-null  object \n",
      " 3   Status              128975 non-null  object \n",
      " 4   Fulfilment          128975 non-null  object \n",
      " 5   Sales Channel       128975 non-null  object \n",
      " 6   ship-service-level  128975 non-null  object \n",
      " 7   Style               128975 non-null  object \n",
      " 8   SKU                 128975 non-null  object \n",
      " 9   Category            128975 non-null  object \n",
      " 10  Size                128975 non-null  object \n",
      " 11  ASIN                128975 non-null  object \n",
      " 12  Courier Status      128975 non-null  object \n",
      " 13  Qty                 128975 non-null  int64  \n",
      " 14  currency            128975 non-null  object \n",
      " 15  Amount              128975 non-null  float64\n",
      " 16  ship-city           128975 non-null  object \n",
      " 17  ship-state          128975 non-null  object \n",
      " 18  ship-postal-code    128975 non-null  object \n",
      " 19  ship-country        128975 non-null  object \n",
      " 20  promotion-ids       128975 non-null  object \n",
      " 21  B2B                 128975 non-null  bool   \n",
      " 22  fulfilled-by        128975 non-null  object \n",
      "dtypes: bool(1), float64(1), int64(2), object(19)\n",
      "memory usage: 21.8+ MB\n"
     ]
    }
   ],
   "source": [
    "dataset.info()"
   ]
  },
  {
   "cell_type": "code",
   "execution_count": 11,
   "id": "d0f01c63",
   "metadata": {},
   "outputs": [
    {
     "name": "stdout",
     "output_type": "stream",
     "text": [
      "<class 'pandas.core.frame.DataFrame'>\n",
      "RangeIndex: 128975 entries, 0 to 128974\n",
      "Data columns (total 23 columns):\n",
      " #   Column              Non-Null Count   Dtype         \n",
      "---  ------              --------------   -----         \n",
      " 0   index               128975 non-null  int64         \n",
      " 1   Order ID            128975 non-null  object        \n",
      " 2   Date                128975 non-null  datetime64[ns]\n",
      " 3   Status              128975 non-null  object        \n",
      " 4   Fulfilment          128975 non-null  object        \n",
      " 5   Sales Channel       128975 non-null  object        \n",
      " 6   ship-service-level  128975 non-null  object        \n",
      " 7   Style               128975 non-null  object        \n",
      " 8   SKU                 128975 non-null  object        \n",
      " 9   Category            128975 non-null  object        \n",
      " 10  Size                128975 non-null  object        \n",
      " 11  ASIN                128975 non-null  object        \n",
      " 12  Courier Status      128975 non-null  object        \n",
      " 13  Qty                 128975 non-null  int64         \n",
      " 14  currency            128975 non-null  object        \n",
      " 15  Amount              128975 non-null  float64       \n",
      " 16  ship-city           128975 non-null  object        \n",
      " 17  ship-state          128975 non-null  object        \n",
      " 18  ship-postal-code    128975 non-null  object        \n",
      " 19  ship-country        128975 non-null  object        \n",
      " 20  promotion-ids       128975 non-null  object        \n",
      " 21  B2B                 128975 non-null  bool          \n",
      " 22  fulfilled-by        128975 non-null  object        \n",
      "dtypes: bool(1), datetime64[ns](1), float64(1), int64(2), object(18)\n",
      "memory usage: 21.8+ MB\n"
     ]
    }
   ],
   "source": [
    "dataset['Date'] = pd.to_datetime(dataset['Date'])\n",
    "dataset.info()"
   ]
  },
  {
   "cell_type": "code",
   "execution_count": 12,
   "id": "f4245e84",
   "metadata": {},
   "outputs": [
    {
     "data": {
      "text/plain": [
       "array(['2022-04-30T00:00:00.000000000', '2022-04-29T00:00:00.000000000',\n",
       "       '2022-04-28T00:00:00.000000000', '2022-04-27T00:00:00.000000000',\n",
       "       '2022-04-26T00:00:00.000000000', '2022-04-25T00:00:00.000000000',\n",
       "       '2022-04-24T00:00:00.000000000', '2022-04-23T00:00:00.000000000',\n",
       "       '2022-04-22T00:00:00.000000000', '2022-04-21T00:00:00.000000000',\n",
       "       '2022-04-20T00:00:00.000000000', '2022-04-19T00:00:00.000000000',\n",
       "       '2022-04-18T00:00:00.000000000', '2022-04-17T00:00:00.000000000',\n",
       "       '2022-04-16T00:00:00.000000000', '2022-04-15T00:00:00.000000000',\n",
       "       '2022-04-14T00:00:00.000000000', '2022-04-13T00:00:00.000000000',\n",
       "       '2022-04-12T00:00:00.000000000', '2022-04-11T00:00:00.000000000',\n",
       "       '2022-04-10T00:00:00.000000000', '2022-04-09T00:00:00.000000000',\n",
       "       '2022-04-08T00:00:00.000000000', '2022-04-07T00:00:00.000000000',\n",
       "       '2022-04-06T00:00:00.000000000', '2022-04-05T00:00:00.000000000',\n",
       "       '2022-04-04T00:00:00.000000000', '2022-04-03T00:00:00.000000000',\n",
       "       '2022-04-02T00:00:00.000000000', '2022-04-01T00:00:00.000000000',\n",
       "       '2022-03-31T00:00:00.000000000', '2022-05-31T00:00:00.000000000',\n",
       "       '2022-05-30T00:00:00.000000000', '2022-05-29T00:00:00.000000000',\n",
       "       '2022-05-28T00:00:00.000000000', '2022-05-27T00:00:00.000000000',\n",
       "       '2022-05-26T00:00:00.000000000', '2022-05-25T00:00:00.000000000',\n",
       "       '2022-05-24T00:00:00.000000000', '2022-05-23T00:00:00.000000000',\n",
       "       '2022-05-22T00:00:00.000000000', '2022-05-21T00:00:00.000000000',\n",
       "       '2022-05-20T00:00:00.000000000', '2022-05-19T00:00:00.000000000',\n",
       "       '2022-05-18T00:00:00.000000000', '2022-05-17T00:00:00.000000000',\n",
       "       '2022-05-16T00:00:00.000000000', '2022-05-15T00:00:00.000000000',\n",
       "       '2022-05-14T00:00:00.000000000', '2022-05-13T00:00:00.000000000',\n",
       "       '2022-05-12T00:00:00.000000000', '2022-05-11T00:00:00.000000000',\n",
       "       '2022-05-10T00:00:00.000000000', '2022-05-09T00:00:00.000000000',\n",
       "       '2022-05-08T00:00:00.000000000', '2022-05-07T00:00:00.000000000',\n",
       "       '2022-05-06T00:00:00.000000000', '2022-05-05T00:00:00.000000000',\n",
       "       '2022-05-04T00:00:00.000000000', '2022-05-03T00:00:00.000000000',\n",
       "       '2022-05-02T00:00:00.000000000', '2022-05-01T00:00:00.000000000',\n",
       "       '2022-06-29T00:00:00.000000000', '2022-06-28T00:00:00.000000000',\n",
       "       '2022-06-27T00:00:00.000000000', '2022-06-26T00:00:00.000000000',\n",
       "       '2022-06-25T00:00:00.000000000', '2022-06-24T00:00:00.000000000',\n",
       "       '2022-06-23T00:00:00.000000000', '2022-06-22T00:00:00.000000000',\n",
       "       '2022-06-21T00:00:00.000000000', '2022-06-20T00:00:00.000000000',\n",
       "       '2022-06-19T00:00:00.000000000', '2022-06-18T00:00:00.000000000',\n",
       "       '2022-06-17T00:00:00.000000000', '2022-06-16T00:00:00.000000000',\n",
       "       '2022-06-15T00:00:00.000000000', '2022-06-14T00:00:00.000000000',\n",
       "       '2022-06-13T00:00:00.000000000', '2022-06-12T00:00:00.000000000',\n",
       "       '2022-06-11T00:00:00.000000000', '2022-06-10T00:00:00.000000000',\n",
       "       '2022-06-09T00:00:00.000000000', '2022-06-08T00:00:00.000000000',\n",
       "       '2022-06-07T00:00:00.000000000', '2022-06-06T00:00:00.000000000',\n",
       "       '2022-06-05T00:00:00.000000000', '2022-06-04T00:00:00.000000000',\n",
       "       '2022-06-03T00:00:00.000000000', '2022-06-02T00:00:00.000000000',\n",
       "       '2022-06-01T00:00:00.000000000'], dtype='datetime64[ns]')"
      ]
     },
     "execution_count": 12,
     "metadata": {},
     "output_type": "execute_result"
    }
   ],
   "source": [
    "dataset['Date'].unique()"
   ]
  },
  {
   "cell_type": "code",
   "execution_count": 13,
   "id": "edc09f2c",
   "metadata": {},
   "outputs": [
    {
     "data": {
      "text/plain": [
       "(128975,)"
      ]
     },
     "execution_count": 13,
     "metadata": {},
     "output_type": "execute_result"
    }
   ],
   "source": [
    "dataset['Date'].shape"
   ]
  },
  {
   "cell_type": "code",
   "execution_count": 14,
   "id": "1269d306",
   "metadata": {},
   "outputs": [
    {
     "data": {
      "text/plain": [
       "array([4, 3, 5, 6], dtype=int64)"
      ]
     },
     "execution_count": 14,
     "metadata": {},
     "output_type": "execute_result"
    }
   ],
   "source": [
    "dataset['Month'] = dataset['Date'].dt.month\n",
    "dataset['Month'].unique()"
   ]
  },
  {
   "cell_type": "code",
   "execution_count": 15,
   "id": "3e5407bd",
   "metadata": {},
   "outputs": [
    {
     "data": {
      "text/plain": [
       "array(['April', 'March', 'May', 'June'], dtype=object)"
      ]
     },
     "execution_count": 15,
     "metadata": {},
     "output_type": "execute_result"
    }
   ],
   "source": [
    "months = ['March','April', 'May', 'June']\n",
    "dataset['Month'].replace([3,4,5,6],months, inplace = True)\n",
    "dataset['Month'].unique()"
   ]
  },
  {
   "cell_type": "code",
   "execution_count": 16,
   "id": "e65c6cc0",
   "metadata": {},
   "outputs": [],
   "source": [
    "dataset.to_csv(\"C:/Users/d3040021/OneDrive - Teesside University/Interactive Visualization/Amazon Sales Report - Group 2 - ICA/Amazon Sale Report - Clean - Clean.csv\")"
   ]
  },
  {
   "cell_type": "code",
   "execution_count": null,
   "id": "f0bd161f",
   "metadata": {},
   "outputs": [],
   "source": []
  }
 ],
 "metadata": {
  "kernelspec": {
   "display_name": "Python 3 (ipykernel)",
   "language": "python",
   "name": "python3"
  },
  "language_info": {
   "codemirror_mode": {
    "name": "ipython",
    "version": 3
   },
   "file_extension": ".py",
   "mimetype": "text/x-python",
   "name": "python",
   "nbconvert_exporter": "python",
   "pygments_lexer": "ipython3",
   "version": "3.11.5"
  }
 },
 "nbformat": 4,
 "nbformat_minor": 5
}
